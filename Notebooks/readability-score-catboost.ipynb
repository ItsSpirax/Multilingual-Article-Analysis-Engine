{
  "cells": [
    {
      "cell_type": "code",
      "execution_count": null,
      "metadata": {
        "colab": {
          "base_uri": "https://localhost:8080/"
        },
        "id": "m0EpHjfEw3iN",
        "outputId": "28b845c8-7141-4f9b-8afb-95fde44808a1"
      },
      "outputs": [
        {
          "name": "stdout",
          "output_type": "stream",
          "text": [
            "Linear Regression MAE: 0.7009732238888944\n",
            "Decision Tree MAE: 0.8402647814056438\n",
            "Random Forest MAE: 0.5984732166172333\n",
            "Gradient Boosting MAE: 0.5976987577988884\n",
            "XGBoost MAE: 0.5755948490452598\n",
            "[LightGBM] [Info] Auto-choosing row-wise multi-threading, the overhead of testing was 0.019636 seconds.\n",
            "You can set `force_row_wise=true` to remove the overhead.\n",
            "And if memory is not enough, you can set `force_col_wise=true`.\n",
            "[LightGBM] [Info] Total Bins 29846\n",
            "[LightGBM] [Info] Number of data points in the train set: 2267, number of used features: 977\n",
            "[LightGBM] [Info] Start training from score -0.964399\n",
            "LightGBM MAE: 0.5862729720667806\n",
            "CatBoost MAE: 0.5709145236690176\n"
          ]
        }
      ],
      "source": [
        "## Predicting Readability of Texts Using Machine Learning\n",
        "\n",
        "### 1.1 Loading and Preprocessing Data\n",
        "import pandas as pd\n",
        "import nltk\n",
        "import re\n",
        "import pickle\n",
        "from nltk.corpus import stopwords\n",
        "from nltk.stem import WordNetLemmatizer\n",
        "from textstat import flesch_kincaid_grade, dale_chall_readability_score\n",
        "from sklearn.model_selection import train_test_split\n",
        "from sklearn.linear_model import LinearRegression\n",
        "from sklearn.tree import DecisionTreeRegressor\n",
        "from sklearn.ensemble import RandomForestRegressor, GradientBoostingRegressor\n",
        "from sklearn.metrics import mean_absolute_error\n",
        "import xgboost as xgb\n",
        "import lightgbm as lgb\n",
        "import catboost as cb\n",
        "from sklearn.feature_extraction.text import TfidfVectorizer\n",
        "\n",
        "# Load data\n",
        "train_read = pd.read_csv('train_read.csv')\n",
        "test_read = pd.read_csv('test_read.csv')\n",
        "\n",
        "# Preprocessing function\n",
        "def preprocess_text(text):\n",
        "    text = text.lower()\n",
        "    text = re.sub(r'[^a-zA-Z0-9\\s]', '', text)\n",
        "    words = text.split()\n",
        "    words = [word for word in words if word not in stopwords.words('english')]\n",
        "    lemmatizer = WordNetLemmatizer()\n",
        "    words = [lemmatizer.lemmatize(word) for word in words]\n",
        "    return ' '.join(words)\n",
        "\n",
        "train_read['processed_text'] = train_read['excerpt'].apply(preprocess_text)\n",
        "test_read['processed_text'] = test_read['excerpt'].apply(preprocess_text)\n",
        "\n",
        "### 1.2 Feature Engineering\n",
        "vectorizer = TfidfVectorizer(max_features=1000)\n",
        "train_tfidf = vectorizer.fit_transform(train_read['processed_text']).toarray()\n",
        "\n",
        "# Save TF-IDF vectorizer\n",
        "with open('tfidf_vectorizer.pkl', 'wb') as file:\n",
        "    pickle.dump(vectorizer, file)\n",
        "\n",
        "def compute_features(text):\n",
        "    return {\n",
        "        \"flesch_kincaid\": flesch_kincaid_grade(text),\n",
        "        \"dale_chall\": dale_chall_readability_score(text),\n",
        "        \"sentence_length\": len(text.split('.')) / max(1, len(text.split())),\n",
        "        \"complex_word_ratio\": sum(1 for word in text.split() if len(word) > 6) / max(1, len(text.split()))\n",
        "    }\n",
        "\n",
        "train_features = train_read['processed_text'].apply(compute_features).apply(pd.Series)\n",
        "train_read = pd.concat([train_read, train_features], axis=1)\n",
        "\n",
        "X = pd.concat([train_read[train_features.columns], pd.DataFrame(train_tfidf)], axis=1)\n",
        "X.columns = X.columns.astype(str)  # Ensure all column names are strings\n",
        "y = train_read[\"target\"]\n",
        "X_train, X_test, y_train, y_test = train_test_split(X, y, test_size=0.2, random_state=42)\n",
        "\n",
        "### 1.3 Training Machine Learning Models\n",
        "models = {\n",
        "    \"Linear Regression\": LinearRegression(),\n",
        "    \"Decision Tree\": DecisionTreeRegressor(),\n",
        "    \"Random Forest\": RandomForestRegressor(),\n",
        "    \"Gradient Boosting\": GradientBoostingRegressor(),\n",
        "    \"XGBoost\": xgb.XGBRegressor(),\n",
        "    \"LightGBM\": lgb.LGBMRegressor(),\n",
        "    \"CatBoost\": cb.CatBoostRegressor(verbose=0)\n",
        "}\n",
        "\n",
        "best_model = None\n",
        "best_mae = float('inf')\n",
        "\n",
        "for name, model in models.items():\n",
        "    model.fit(X_train, y_train)\n",
        "    y_pred = model.predict(X_test)\n",
        "    mae = mean_absolute_error(y_test, y_pred)\n",
        "    print(f\"{name} MAE: {mae}\")\n",
        "    if mae < best_mae:\n",
        "        best_mae = mae\n",
        "        best_model = model\n",
        "\n",
        "# Save the best model\n",
        "with open('readability_model.pkl', 'wb') as file:\n",
        "    pickle.dump(best_model, file)\n",
        "\n",
        "### 1.4 Predicting Readability for Test Data\n",
        "# Load TF-IDF vectorizer\n",
        "with open('tfidf_vectorizer.pkl', 'rb') as file:\n",
        "    vectorizer = pickle.load(file)\n",
        "\n",
        "# Transform test data\n",
        "test_tfidf = vectorizer.transform(test_read['processed_text']).toarray()\n",
        "test_features = test_read['processed_text'].apply(compute_features).apply(pd.Series)\n",
        "test_read = pd.concat([test_read, test_features], axis=1)\n",
        "\n",
        "# Ensure feature consistency\n",
        "test_features_combined = pd.concat([test_read[test_features.columns], pd.DataFrame(test_tfidf)], axis=1)\n",
        "test_features_combined.columns = test_features_combined.columns.astype(str)\n",
        "\n",
        "# Load model and make predictions\n",
        "with open('readability_model.pkl', 'rb') as file:\n",
        "    model = pickle.load(file)\n",
        "\n",
        "test_predictions = model.predict(test_features_combined)\n",
        "\n",
        "# Prepare submission file\n",
        "submission = pd.DataFrame({\n",
        "    'id': test_read['id'],\n",
        "    'readability_score': test_predictions\n",
        "})\n",
        "\n",
        "submission.to_csv('submission.csv', index=False)\n"
      ]
    },
    {
      "cell_type": "code",
      "execution_count": 6,
      "metadata": {
        "colab": {
          "base_uri": "https://localhost:8080/"
        },
        "id": "hJ4xfBjj3dQn",
        "outputId": "ce38d808-d872-4f2a-81e2-d9588fc96583"
      },
      "outputs": [
        {
          "name": "stderr",
          "output_type": "stream",
          "text": [
            "[nltk_data] Downloading package stopwords to /root/nltk_data...\n",
            "[nltk_data]   Package stopwords is already up-to-date!\n",
            "[nltk_data] Downloading package wordnet to /root/nltk_data...\n"
          ]
        },
        {
          "data": {
            "text/plain": [
              "True"
            ]
          },
          "execution_count": 6,
          "metadata": {},
          "output_type": "execute_result"
        }
      ],
      "source": [
        "import nltk\n",
        "\n",
        "# Download required resources\n",
        "nltk.download('stopwords')\n",
        "nltk.download('wordnet')\n"
      ]
    },
    {
      "cell_type": "code",
      "execution_count": 2,
      "metadata": {
        "colab": {
          "base_uri": "https://localhost:8080/"
        },
        "id": "wAnyIdK8zUV6",
        "outputId": "8e811b84-cd7e-4a18-b234-56a951bfa58b"
      },
      "outputs": [
        {
          "name": "stdout",
          "output_type": "stream",
          "text": [
            "Collecting textstat\n",
            "  Downloading textstat-0.7.5-py3-none-any.whl.metadata (15 kB)\n",
            "Collecting pyphen (from textstat)\n",
            "  Downloading pyphen-0.17.2-py3-none-any.whl.metadata (3.2 kB)\n",
            "Collecting cmudict (from textstat)\n",
            "  Downloading cmudict-1.0.32-py3-none-any.whl.metadata (3.6 kB)\n",
            "Requirement already satisfied: setuptools in /usr/local/lib/python3.11/dist-packages (from textstat) (75.1.0)\n",
            "Requirement already satisfied: importlib-metadata>=5 in /usr/local/lib/python3.11/dist-packages (from cmudict->textstat) (8.6.1)\n",
            "Requirement already satisfied: importlib-resources>=5 in /usr/local/lib/python3.11/dist-packages (from cmudict->textstat) (6.5.2)\n",
            "Requirement already satisfied: zipp>=3.20 in /usr/local/lib/python3.11/dist-packages (from importlib-metadata>=5->cmudict->textstat) (3.21.0)\n",
            "Downloading textstat-0.7.5-py3-none-any.whl (105 kB)\n",
            "\u001b[2K   \u001b[90m━━━━━━━━━━━━━━━━━━━━━━━━━━━━━━━━━━━━━━━━\u001b[0m \u001b[32m105.3/105.3 kB\u001b[0m \u001b[31m3.4 MB/s\u001b[0m eta \u001b[36m0:00:00\u001b[0m\n",
            "\u001b[?25hDownloading cmudict-1.0.32-py3-none-any.whl (939 kB)\n",
            "\u001b[2K   \u001b[90m━━━━━━━━━━━━━━━━━━━━━━━━━━━━━━━━━━━━━━━━\u001b[0m \u001b[32m939.4/939.4 kB\u001b[0m \u001b[31m16.8 MB/s\u001b[0m eta \u001b[36m0:00:00\u001b[0m\n",
            "\u001b[?25hDownloading pyphen-0.17.2-py3-none-any.whl (2.1 MB)\n",
            "\u001b[2K   \u001b[90m━━━━━━━━━━━━━━━━━━━━━━━━━━━━━━━━━━━━━━━━\u001b[0m \u001b[32m2.1/2.1 MB\u001b[0m \u001b[31m34.8 MB/s\u001b[0m eta \u001b[36m0:00:00\u001b[0m\n",
            "\u001b[?25hInstalling collected packages: pyphen, cmudict, textstat\n",
            "Successfully installed cmudict-1.0.32 pyphen-0.17.2 textstat-0.7.5\n"
          ]
        }
      ],
      "source": [
        "!pip install textstat"
      ]
    },
    {
      "cell_type": "code",
      "execution_count": 4,
      "metadata": {
        "colab": {
          "base_uri": "https://localhost:8080/"
        },
        "id": "6FitTyfYzZRi",
        "outputId": "1f81ebfe-75f7-4c23-973e-cfbf743b853b"
      },
      "outputs": [
        {
          "name": "stdout",
          "output_type": "stream",
          "text": [
            "Collecting catboost\n",
            "  Downloading catboost-1.2.7-cp311-cp311-manylinux2014_x86_64.whl.metadata (1.2 kB)\n",
            "Requirement already satisfied: graphviz in /usr/local/lib/python3.11/dist-packages (from catboost) (0.20.3)\n",
            "Requirement already satisfied: matplotlib in /usr/local/lib/python3.11/dist-packages (from catboost) (3.10.0)\n",
            "Collecting numpy<2.0,>=1.16.0 (from catboost)\n",
            "  Downloading numpy-1.26.4-cp311-cp311-manylinux_2_17_x86_64.manylinux2014_x86_64.whl.metadata (61 kB)\n",
            "\u001b[2K     \u001b[90m━━━━━━━━━━━━━━━━━━━━━━━━━━━━━━━━━━━━━━━━\u001b[0m \u001b[32m61.0/61.0 kB\u001b[0m \u001b[31m1.9 MB/s\u001b[0m eta \u001b[36m0:00:00\u001b[0m\n",
            "\u001b[?25hRequirement already satisfied: pandas>=0.24 in /usr/local/lib/python3.11/dist-packages (from catboost) (2.2.2)\n",
            "Requirement already satisfied: scipy in /usr/local/lib/python3.11/dist-packages (from catboost) (1.14.1)\n",
            "Requirement already satisfied: plotly in /usr/local/lib/python3.11/dist-packages (from catboost) (5.24.1)\n",
            "Requirement already satisfied: six in /usr/local/lib/python3.11/dist-packages (from catboost) (1.17.0)\n",
            "Requirement already satisfied: python-dateutil>=2.8.2 in /usr/local/lib/python3.11/dist-packages (from pandas>=0.24->catboost) (2.8.2)\n",
            "Requirement already satisfied: pytz>=2020.1 in /usr/local/lib/python3.11/dist-packages (from pandas>=0.24->catboost) (2025.1)\n",
            "Requirement already satisfied: tzdata>=2022.7 in /usr/local/lib/python3.11/dist-packages (from pandas>=0.24->catboost) (2025.1)\n",
            "Requirement already satisfied: contourpy>=1.0.1 in /usr/local/lib/python3.11/dist-packages (from matplotlib->catboost) (1.3.1)\n",
            "Requirement already satisfied: cycler>=0.10 in /usr/local/lib/python3.11/dist-packages (from matplotlib->catboost) (0.12.1)\n",
            "Requirement already satisfied: fonttools>=4.22.0 in /usr/local/lib/python3.11/dist-packages (from matplotlib->catboost) (4.56.0)\n",
            "Requirement already satisfied: kiwisolver>=1.3.1 in /usr/local/lib/python3.11/dist-packages (from matplotlib->catboost) (1.4.8)\n",
            "Requirement already satisfied: packaging>=20.0 in /usr/local/lib/python3.11/dist-packages (from matplotlib->catboost) (24.2)\n",
            "Requirement already satisfied: pillow>=8 in /usr/local/lib/python3.11/dist-packages (from matplotlib->catboost) (11.1.0)\n",
            "Requirement already satisfied: pyparsing>=2.3.1 in /usr/local/lib/python3.11/dist-packages (from matplotlib->catboost) (3.2.1)\n",
            "Requirement already satisfied: tenacity>=6.2.0 in /usr/local/lib/python3.11/dist-packages (from plotly->catboost) (9.0.0)\n",
            "Downloading catboost-1.2.7-cp311-cp311-manylinux2014_x86_64.whl (98.7 MB)\n",
            "\u001b[2K   \u001b[90m━━━━━━━━━━━━━━━━━━━━━━━━━━━━━━━━━━━━━━━━\u001b[0m \u001b[32m98.7/98.7 MB\u001b[0m \u001b[31m6.3 MB/s\u001b[0m eta \u001b[36m0:00:00\u001b[0m\n",
            "\u001b[?25hDownloading numpy-1.26.4-cp311-cp311-manylinux_2_17_x86_64.manylinux2014_x86_64.whl (18.3 MB)\n",
            "\u001b[2K   \u001b[90m━━━━━━━━━━━━━━━━━━━━━━━━━━━━━━━━━━━━━━━━\u001b[0m \u001b[32m18.3/18.3 MB\u001b[0m \u001b[31m50.2 MB/s\u001b[0m eta \u001b[36m0:00:00\u001b[0m\n",
            "\u001b[?25hInstalling collected packages: numpy, catboost\n",
            "  Attempting uninstall: numpy\n",
            "    Found existing installation: numpy 2.0.2\n",
            "    Uninstalling numpy-2.0.2:\n",
            "      Successfully uninstalled numpy-2.0.2\n",
            "Successfully installed catboost-1.2.7 numpy-1.26.4\n"
          ]
        }
      ],
      "source": [
        "!pip install catboost"
      ]
    },
    {
      "cell_type": "code",
      "execution_count": 6,
      "metadata": {
        "colab": {
          "base_uri": "https://localhost:8080/"
        },
        "id": "PS51WHEwzr9U",
        "outputId": "ef33c830-10e9-4f73-819d-77af8438ca82"
      },
      "outputs": [
        {
          "name": "stdout",
          "output_type": "stream",
          "text": [
            "Requirement already satisfied: numpy in /usr/local/lib/python3.11/dist-packages (1.26.4)\n",
            "Collecting numpy\n",
            "  Downloading numpy-2.2.4-cp311-cp311-manylinux_2_17_x86_64.manylinux2014_x86_64.whl.metadata (62 kB)\n",
            "\u001b[2K     \u001b[90m━━━━━━━━━━━━━━━━━━━━━━━━━━━━━━━━━━━━━━━━\u001b[0m \u001b[32m62.0/62.0 kB\u001b[0m \u001b[31m2.3 MB/s\u001b[0m eta \u001b[36m0:00:00\u001b[0m\n",
            "\u001b[?25hRequirement already satisfied: catboost in /usr/local/lib/python3.11/dist-packages (1.2.7)\n",
            "Requirement already satisfied: graphviz in /usr/local/lib/python3.11/dist-packages (from catboost) (0.20.3)\n",
            "Requirement already satisfied: matplotlib in /usr/local/lib/python3.11/dist-packages (from catboost) (3.10.0)\n",
            "Requirement already satisfied: pandas>=0.24 in /usr/local/lib/python3.11/dist-packages (from catboost) (2.2.2)\n",
            "Requirement already satisfied: scipy in /usr/local/lib/python3.11/dist-packages (from catboost) (1.14.1)\n",
            "Requirement already satisfied: plotly in /usr/local/lib/python3.11/dist-packages (from catboost) (5.24.1)\n",
            "Requirement already satisfied: six in /usr/local/lib/python3.11/dist-packages (from catboost) (1.17.0)\n",
            "Requirement already satisfied: python-dateutil>=2.8.2 in /usr/local/lib/python3.11/dist-packages (from pandas>=0.24->catboost) (2.8.2)\n",
            "Requirement already satisfied: pytz>=2020.1 in /usr/local/lib/python3.11/dist-packages (from pandas>=0.24->catboost) (2025.1)\n",
            "Requirement already satisfied: tzdata>=2022.7 in /usr/local/lib/python3.11/dist-packages (from pandas>=0.24->catboost) (2025.1)\n",
            "Requirement already satisfied: contourpy>=1.0.1 in /usr/local/lib/python3.11/dist-packages (from matplotlib->catboost) (1.3.1)\n",
            "Requirement already satisfied: cycler>=0.10 in /usr/local/lib/python3.11/dist-packages (from matplotlib->catboost) (0.12.1)\n",
            "Requirement already satisfied: fonttools>=4.22.0 in /usr/local/lib/python3.11/dist-packages (from matplotlib->catboost) (4.56.0)\n",
            "Requirement already satisfied: kiwisolver>=1.3.1 in /usr/local/lib/python3.11/dist-packages (from matplotlib->catboost) (1.4.8)\n",
            "Requirement already satisfied: packaging>=20.0 in /usr/local/lib/python3.11/dist-packages (from matplotlib->catboost) (24.2)\n",
            "Requirement already satisfied: pillow>=8 in /usr/local/lib/python3.11/dist-packages (from matplotlib->catboost) (11.1.0)\n",
            "Requirement already satisfied: pyparsing>=2.3.1 in /usr/local/lib/python3.11/dist-packages (from matplotlib->catboost) (3.2.1)\n",
            "Requirement already satisfied: tenacity>=6.2.0 in /usr/local/lib/python3.11/dist-packages (from plotly->catboost) (9.0.0)\n"
          ]
        }
      ],
      "source": [
        "pip install --upgrade numpy catboost\n"
      ]
    },
    {
      "cell_type": "code",
      "execution_count": 10,
      "metadata": {
        "colab": {
          "base_uri": "https://localhost:8080/",
          "height": 755
        },
        "id": "ui8RvvP014EI",
        "outputId": "4e061951-be9c-412a-86da-b2f936beb4a6"
      },
      "outputs": [
        {
          "name": "stdout",
          "output_type": "stream",
          "text": [
            "Found existing installation: numpy 1.26.4\n",
            "Uninstalling numpy-1.26.4:\n",
            "  Successfully uninstalled numpy-1.26.4\n",
            "Found existing installation: catboost 1.2.7\n",
            "Uninstalling catboost-1.2.7:\n",
            "  Successfully uninstalled catboost-1.2.7\n",
            "Collecting numpy\n",
            "  Downloading numpy-2.2.4-cp311-cp311-manylinux_2_17_x86_64.manylinux2014_x86_64.whl.metadata (62 kB)\n",
            "\u001b[2K     \u001b[90m━━━━━━━━━━━━━━━━━━━━━━━━━━━━━━━━━━━━━━━━\u001b[0m \u001b[32m62.0/62.0 kB\u001b[0m \u001b[31m3.0 MB/s\u001b[0m eta \u001b[36m0:00:00\u001b[0m\n",
            "\u001b[?25hCollecting catboost\n",
            "  Downloading catboost-1.2.7-cp311-cp311-manylinux2014_x86_64.whl.metadata (1.2 kB)\n",
            "Requirement already satisfied: graphviz in /usr/local/lib/python3.11/dist-packages (from catboost) (0.20.3)\n",
            "Requirement already satisfied: matplotlib in /usr/local/lib/python3.11/dist-packages (from catboost) (3.10.0)\n",
            "Collecting numpy\n",
            "  Downloading numpy-1.26.4-cp311-cp311-manylinux_2_17_x86_64.manylinux2014_x86_64.whl.metadata (61 kB)\n",
            "\u001b[2K     \u001b[90m━━━━━━━━━━━━━━━━━━━━━━━━━━━━━━━━━━━━━━━━\u001b[0m \u001b[32m61.0/61.0 kB\u001b[0m \u001b[31m54.6 MB/s\u001b[0m eta \u001b[36m0:00:00\u001b[0m\n",
            "\u001b[?25hRequirement already satisfied: pandas>=0.24 in /usr/local/lib/python3.11/dist-packages (from catboost) (2.2.2)\n",
            "Requirement already satisfied: scipy in /usr/local/lib/python3.11/dist-packages (from catboost) (1.14.1)\n",
            "Requirement already satisfied: plotly in /usr/local/lib/python3.11/dist-packages (from catboost) (5.24.1)\n",
            "Requirement already satisfied: six in /usr/local/lib/python3.11/dist-packages (from catboost) (1.17.0)\n",
            "Requirement already satisfied: python-dateutil>=2.8.2 in /usr/local/lib/python3.11/dist-packages (from pandas>=0.24->catboost) (2.8.2)\n",
            "Requirement already satisfied: pytz>=2020.1 in /usr/local/lib/python3.11/dist-packages (from pandas>=0.24->catboost) (2025.1)\n",
            "Requirement already satisfied: tzdata>=2022.7 in /usr/local/lib/python3.11/dist-packages (from pandas>=0.24->catboost) (2025.1)\n",
            "Requirement already satisfied: contourpy>=1.0.1 in /usr/local/lib/python3.11/dist-packages (from matplotlib->catboost) (1.3.1)\n",
            "Requirement already satisfied: cycler>=0.10 in /usr/local/lib/python3.11/dist-packages (from matplotlib->catboost) (0.12.1)\n",
            "Requirement already satisfied: fonttools>=4.22.0 in /usr/local/lib/python3.11/dist-packages (from matplotlib->catboost) (4.56.0)\n",
            "Requirement already satisfied: kiwisolver>=1.3.1 in /usr/local/lib/python3.11/dist-packages (from matplotlib->catboost) (1.4.8)\n",
            "Requirement already satisfied: packaging>=20.0 in /usr/local/lib/python3.11/dist-packages (from matplotlib->catboost) (24.2)\n",
            "Requirement already satisfied: pillow>=8 in /usr/local/lib/python3.11/dist-packages (from matplotlib->catboost) (11.1.0)\n",
            "Requirement already satisfied: pyparsing>=2.3.1 in /usr/local/lib/python3.11/dist-packages (from matplotlib->catboost) (3.2.1)\n",
            "Requirement already satisfied: tenacity>=6.2.0 in /usr/local/lib/python3.11/dist-packages (from plotly->catboost) (9.0.0)\n",
            "Downloading catboost-1.2.7-cp311-cp311-manylinux2014_x86_64.whl (98.7 MB)\n",
            "\u001b[2K   \u001b[90m━━━━━━━━━━━━━━━━━━━━━━━━━━━━━━━━━━━━━━━━\u001b[0m \u001b[32m98.7/98.7 MB\u001b[0m \u001b[31m45.7 MB/s\u001b[0m eta \u001b[36m0:00:00\u001b[0m\n",
            "\u001b[?25hDownloading numpy-1.26.4-cp311-cp311-manylinux_2_17_x86_64.manylinux2014_x86_64.whl (18.3 MB)\n",
            "\u001b[2K   \u001b[90m━━━━━━━━━━━━━━━━━━━━━━━━━━━━━━━━━━━━━━━━\u001b[0m \u001b[32m18.3/18.3 MB\u001b[0m \u001b[31m41.1 MB/s\u001b[0m eta \u001b[36m0:00:00\u001b[0m\n",
            "\u001b[?25hInstalling collected packages: numpy, catboost\n",
            "Successfully installed catboost-1.2.7 numpy-1.26.4\n"
          ]
        },
        {
          "data": {
            "application/vnd.colab-display-data+json": {
              "id": "fe4350f647a844aab509eeba87bffadc",
              "pip_warning": {
                "packages": [
                  "_catboost"
                ]
              }
            }
          },
          "metadata": {},
          "output_type": "display_data"
        }
      ],
      "source": [
        "!pip uninstall -y numpy catboost\n",
        "!pip install --no-cache-dir numpy catboost\n"
      ]
    },
    {
      "cell_type": "code",
      "execution_count": 1,
      "metadata": {
        "colab": {
          "base_uri": "https://localhost:8080/"
        },
        "id": "J818tqCO2YAT",
        "outputId": "06ce196b-d73f-422d-ca62-bcc4d8c9e491"
      },
      "outputs": [
        {
          "name": "stderr",
          "output_type": "stream",
          "text": [
            "[nltk_data] Downloading package stopwords to\n",
            "[nltk_data]     C:\\Users\\NATHAN\\AppData\\Roaming\\nltk_data...\n",
            "[nltk_data]   Package stopwords is already up-to-date!\n"
          ]
        },
        {
          "data": {
            "text/plain": [
              "True"
            ]
          },
          "execution_count": 1,
          "metadata": {},
          "output_type": "execute_result"
        }
      ],
      "source": [
        "import nltk\n",
        "nltk.download('stopwords')\n"
      ]
    },
    {
      "cell_type": "code",
      "execution_count": 3,
      "metadata": {},
      "outputs": [
        {
          "name": "stdout",
          "output_type": "stream",
          "text": [
            "Sentence: The cat sat on the mat.\n",
            "Readability Level: Moderate (Score: -0.184)\n",
            "\n",
            "Sentence: She enjoys reading books in the library.\n",
            "Readability Level: Easy (Score: -0.046)\n",
            "\n",
            "Sentence: We went to the zoo and saw many animals.\n",
            "Readability Level: Easy (Score: 0.207)\n",
            "\n",
            "Sentence: Apples and bananas are my favorite fruits.\n",
            "Readability Level: Moderate (Score: -0.387)\n",
            "\n",
            "Sentence: It is a sunny day, and the sky is blue.\n",
            "Readability Level: Easy (Score: 0.093)\n",
            "\n",
            "Sentence: He runs fast and jumps high in the competition.\n",
            "Readability Level: Easy (Score: 0.055)\n",
            "\n",
            "Sentence: The intricacies of quantum mechanics elude those unfamiliar with advanced physics.\n",
            "Readability Level: Difficult (Score: -1.270)\n",
            "\n",
            "Sentence: A comprehensive analysis of socio-economic disparities reveals multifaceted systemic inequities.\n",
            "Readability Level: Difficult (Score: -2.096)\n",
            "\n",
            "Sentence: The juxtaposition of baroque embellishments and modernist minimalism creates a paradoxical aesthetic.\n",
            "Readability Level: Difficult (Score: -1.402)\n",
            "\n",
            "Sentence: Cognizance of epistemological paradigms necessitates an advanced grasp of philosophical discourse.\n",
            "Readability Level: Difficult (Score: -1.707)\n",
            "\n",
            "Sentence: The cat sat on the mat.\n",
            "Readability Level: Moderate (Score: -0.184)\n",
            "\n",
            "Sentence: She enjoys reading books in the library.\n",
            "Readability Level: Easy (Score: -0.046)\n",
            "\n",
            "Sentence: We went to the zoo and saw many animals.\n",
            "Readability Level: Easy (Score: 0.207)\n",
            "\n",
            "Sentence: Apples and bananas are my favorite fruits.\n",
            "Readability Level: Moderate (Score: -0.387)\n",
            "\n",
            "Sentence: It is a sunny day, and the sky is blue.\n",
            "Readability Level: Easy (Score: 0.093)\n",
            "\n",
            "Sentence: He runs fast and jumps high in the competition.\n",
            "Readability Level: Easy (Score: 0.055)\n",
            "\n",
            "Sentence: The intricacies of quantum mechanics elude those unfamiliar with advanced physics.\n",
            "Readability Level: Difficult (Score: -1.270)\n",
            "\n",
            "Sentence: A comprehensive analysis of socio-economic disparities reveals multifaceted systemic inequities.\n",
            "Readability Level: Difficult (Score: -2.096)\n",
            "\n",
            "Sentence: The juxtaposition of baroque embellishments and modernist minimalism creates a paradoxical aesthetic.\n",
            "Readability Level: Difficult (Score: -1.402)\n",
            "\n",
            "Sentence: Cognizance of epistemological paradigms necessitates an advanced grasp of philosophical discourse.\n",
            "Readability Level: Difficult (Score: -1.707)\n",
            "\n"
          ]
        }
      ],
      "source": [
        "import pickle\n",
        "import pandas as pd\n",
        "from textstat import flesch_kincaid_grade, dale_chall_readability_score\n",
        "from sklearn.feature_extraction.text import TfidfVectorizer\n",
        "\n",
        "# Load the saved TF-IDF vectorizer and model\n",
        "with open('tfidf_vectorizer.pkl', 'rb') as file:\n",
        "    vectorizer = pickle.load(file)\n",
        "\n",
        "with open('readability_model.pkl', 'rb') as file:\n",
        "    model = pickle.load(file)\n",
        "\n",
        "# Define test sentences\n",
        "test_sentences = [\n",
        "    \"The cat sat on the mat.\",\n",
        "    \"She enjoys reading books in the library.\",\n",
        "    \"We went to the zoo and saw many animals.\",\n",
        "    \"Apples and bananas are my favorite fruits.\",\n",
        "    \"It is a sunny day, and the sky is blue.\",\n",
        "    \"He runs fast and jumps high in the competition.\",\n",
        "\n",
        "    # Difficult Sentences (Complex words, long structure, harder readability)\n",
        "    \"The intricacies of quantum mechanics elude those unfamiliar with advanced physics.\",\n",
        "    \"A comprehensive analysis of socio-economic disparities reveals multifaceted systemic inequities.\",\n",
        "    \"The juxtaposition of baroque embellishments and modernist minimalism creates a paradoxical aesthetic.\",\n",
        "    \"Cognizance of epistemological paradigms necessitates an advanced grasp of philosophical discourse.\"\n",
        "]\n",
        "\n",
        "# Compute readability-based features\n",
        "def compute_features(text):\n",
        "    return {\n",
        "        \"flesch_kincaid\": flesch_kincaid_grade(text),\n",
        "        \"dale_chall\": dale_chall_readability_score(text),\n",
        "        \"sentence_length\": len(text.split('.')) / max(1, len(text.split())),\n",
        "        \"complex_word_ratio\": sum(1 for word in text.split() if len(word) > 6) / max(1, len(text.split()))\n",
        "    }\n",
        "\n",
        "test_features = pd.DataFrame([compute_features(text) for text in test_sentences])\n",
        "\n",
        "# Transform text using TF-IDF\n",
        "test_tfidf = vectorizer.transform(test_sentences).toarray()\n",
        "test_tfidf_df = pd.DataFrame(test_tfidf)\n",
        "\n",
        "# Combine readability features and TF-IDF features\n",
        "test_combined = pd.concat([test_features, test_tfidf_df], axis=1)\n",
        "test_combined.columns = test_combined.columns.astype(str)  # Ensure column names are strings\n",
        "\n",
        "# Make predictions\n",
        "predictions = model.predict(test_combined)\n",
        "\n",
        "# Define readability level interpretation\n",
        "def interpret_score(score):\n",
        "    if score >= -0.1:  # New threshold for \"Easy\"\n",
        "        return \"Easy\"\n",
        "    elif score >= -1.0:  # \"Moderate\" now covers a better range\n",
        "        return \"Moderate\"\n",
        "    else:\n",
        "        return \"Difficult\"\n",
        "\n",
        "# Print results with readability level\n",
        "for sentence, score in zip(test_sentences, predictions):\n",
        "    print(f\"Sentence: {sentence}\\nReadability Level: {interpret_score(score)} (Score: {score:.3f})\\n\")\n",
        "\n",
        "\n",
        "# Print results with readability level\n",
        "for sentence, score in zip(test_sentences, predictions):\n",
        "    print(f\"Sentence: {sentence}\\nReadability Level: {interpret_score(score)} (Score: {score:.3f})\\n\")\n"
      ]
    },
    {
      "cell_type": "code",
      "execution_count": null,
      "metadata": {},
      "outputs": [],
      "source": []
    }
  ],
  "metadata": {
    "colab": {
      "provenance": []
    },
    "kernelspec": {
      "display_name": "Python 3",
      "name": "python3"
    },
    "language_info": {
      "codemirror_mode": {
        "name": "ipython",
        "version": 3
      },
      "file_extension": ".py",
      "mimetype": "text/x-python",
      "name": "python",
      "nbconvert_exporter": "python",
      "pygments_lexer": "ipython3",
      "version": "3.10.0"
    }
  },
  "nbformat": 4,
  "nbformat_minor": 0
}
